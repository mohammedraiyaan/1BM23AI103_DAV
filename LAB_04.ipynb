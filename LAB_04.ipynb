{
 "cells": [
  {
   "cell_type": "code",
   "execution_count": 14,
   "id": "60ff0d4f",
   "metadata": {},
   "outputs": [],
   "source": [
    "import pandas as pd\n",
    "import numpy as np"
   ]
  },
  {
   "cell_type": "code",
   "execution_count": 15,
   "id": "5c9e0953",
   "metadata": {},
   "outputs": [
    {
     "name": "stdout",
     "output_type": "stream",
     "text": [
      "   Country  Year  Population       GDP  Life_Expectancy\n",
      "0      USA  2020   331000000  21000000             78.5\n",
      "1      USA  2021   332000000  21500000             78.7\n",
      "2    China  2020  1402000000  15500000             76.9\n",
      "3    China  2021  1405000000  16000000             77.1\n",
      "4  Germany  2020    83000000   4000000             81.3\n",
      "5  Germany  2021    83100000   4200000             81.5\n"
     ]
    }
   ],
   "source": [
    "# Creating a dictionary to represent the dataset\n",
    "data = {\n",
    "    'Country': ['USA', 'USA', 'China', 'China', 'Germany', 'Germany'],\n",
    "    'Year': [2020, 2021, 2020, 2021, 2020, 2021],\n",
    "    'Population': [331_000_000, 332_000_000, 1_402_000_000, 1_405_000_000, 83_000_000, 83_100_000],\n",
    "    'GDP': [21_000_000, 21_500_000, 15_500_000, 16_000_000, 4_000_000, 4_200_000],\n",
    "    'Life_Expectancy': [78.5, 78.7, 76.9, 77.1, 81.3, 81.5]\n",
    "}\n",
    "\n",
    "# Converting the data dictionary into a Pandas DataFrame\n",
    "df = pd.DataFrame(data)\n",
    "\n",
    "# Display the DataFrame to check the data structure\n",
    "print(df)"
   ]
  },
  {
   "cell_type": "code",
   "execution_count": 16,
   "id": "457f0d1b",
   "metadata": {},
   "outputs": [
    {
     "name": "stdout",
     "output_type": "stream",
     "text": [
      "\n",
      "Using Pandas:\n",
      "Mean Population:\n",
      " 606016666.6666666\n",
      "Total GDP:\n",
      " 82200000\n",
      "Max Life Expectancy:\n",
      " 81.5\n",
      "Min Life Expectancy:\n",
      " 76.9\n",
      "\n",
      "Using NumPy:\n",
      "Mean GDP (NumPy): 13700000.0\n",
      "Standard Deviation of GDP (NumPy): 7153087.911291645\n",
      "Total Population (NumPy): 3636100000\n"
     ]
    }
   ],
   "source": [
    "# ------------------ Summary Statistics using Pandas ------------------\n",
    "print(\"\\nUsing Pandas:\")\n",
    "# Calculate the mean of the Population column\n",
    "print(\"Mean Population:\\n\", df['Population'].mean())\n",
    "\n",
    "# Calculate the total GDP (sum of GDP values)\n",
    "print(\"Total GDP:\\n\", df['GDP'].sum())\n",
    "\n",
    "# Calculate the maximum life expectancy\n",
    "print(\"Max Life Expectancy:\\n\", df['Life_Expectancy'].max())\n",
    "\n",
    "# Calculate the minimum life expectancy\n",
    "print(\"Min Life Expectancy:\\n\", df['Life_Expectancy'].min())\n",
    "\n",
    "# ------------------ Summary Statistics using NumPy ------------------\n",
    "print(\"\\nUsing NumPy:\")\n",
    "# Calculate the mean of the GDP column using NumPy\n",
    "print(\"Mean GDP (NumPy):\", np.mean(df['GDP']))\n",
    "\n",
    "# Calculate the standard deviation of the GDP using NumPy\n",
    "print(\"Standard Deviation of GDP (NumPy):\", np.std(df['GDP']))\n",
    "\n",
    "# Calculate the total population using NumPy\n",
    "print(\"Total Population (NumPy):\", np.sum(df['Population']))"
   ]
  },
  {
   "cell_type": "code",
   "execution_count": 17,
   "id": "cf197145",
   "metadata": {},
   "outputs": [
    {
     "name": "stdout",
     "output_type": "stream",
     "text": [
      "\n",
      "Updated GDP with 10% increase:\n",
      "           GDP\n",
      "0  23100000.0\n",
      "1  23650000.0\n",
      "2  17050000.0\n",
      "3  17600000.0\n",
      "4   4400000.0\n",
      "5   4620000.0\n"
     ]
    }
   ],
   "source": [
    "# ------------------ Vectorized Operation to Increase GDP by 10% ------------------\n",
    "# Apply a 10% increase to the GDP values (vectorized operation)\n",
    "df['GDP'] = df['GDP'] * 1.10  # All rows of the 'GDP' column are multiplied by 1.10\n",
    "\n",
    "# Display the updated GDP column after the increase\n",
    "print(\"\\nUpdated GDP with 10% increase:\\n\", df[['GDP']])"
   ]
  },
  {
   "cell_type": "code",
   "execution_count": 18,
   "id": "7705c58d",
   "metadata": {},
   "outputs": [
    {
     "name": "stdout",
     "output_type": "stream",
     "text": [
      "\n",
      "Data after swapping and sorting by 'Year':\n",
      "               Population         GDP  Life_Expectancy\n",
      "Year Country                                         \n",
      "2020 China    1402000000  17050000.0             76.9\n",
      "     Germany    83000000   4400000.0             81.3\n",
      "     USA       331000000  23100000.0             78.5\n",
      "2021 China    1405000000  17600000.0             77.1\n",
      "     Germany    83100000   4620000.0             81.5\n",
      "     USA       332000000  23650000.0             78.7\n"
     ]
    }
   ],
   "source": [
    "# ------------------ Swap Levels of MultiIndex (Country and Year) ------------------\n",
    "# Setting 'Country' and 'Year' as multi-level index\n",
    "df.set_index(['Country', 'Year'], inplace=True)\n",
    "\n",
    "# Swap the 'Country' and 'Year' index levels\n",
    "df_swapped = df.swaplevel('Country', 'Year')\n",
    "\n",
    "# Sort the index by 'Year' (after swapping levels)\n",
    "df_swapped = df_swapped.sort_index(level='Year')\n",
    "\n",
    "# Display the swapped DataFrame\n",
    "print(\"\\nData after swapping and sorting by 'Year':\\n\", df_swapped)"
   ]
  },
  {
   "cell_type": "code",
   "execution_count": 19,
   "id": "d735e982",
   "metadata": {},
   "outputs": [
    {
     "name": "stdout",
     "output_type": "stream",
     "text": [
      "\n",
      "Data after unstacking (Year becomes columns):\n",
      "          Population                     GDP             Life_Expectancy      \n",
      "Year           2020        2021        2020        2021            2020  2021\n",
      "Country                                                                      \n",
      "China    1402000000  1405000000  17050000.0  17600000.0            76.9  77.1\n",
      "Germany    83000000    83100000   4400000.0   4620000.0            81.3  81.5\n",
      "USA       331000000   332000000  23100000.0  23650000.0            78.5  78.7\n"
     ]
    }
   ],
   "source": [
    "# ------------------ Unstack to Pivot Year into Columns ------------------\n",
    "# Unstack the 'Year' level, making 'Year' the columns (pivoting)\n",
    "df_unstacked = df.unstack(level='Year')\n",
    "\n",
    "# Display the unstacked DataFrame\n",
    "print(\"\\nData after unstacking (Year becomes columns):\\n\", df_unstacked)"
   ]
  },
  {
   "cell_type": "code",
   "execution_count": 20,
   "id": "dff0fe53",
   "metadata": {},
   "outputs": [
    {
     "name": "stdout",
     "output_type": "stream",
     "text": [
      "\n",
      "Population of USA:\n",
      " Year\n",
      "2020    331000000\n",
      "2021    332000000\n",
      "Name: Population, dtype: int64\n",
      "\n",
      "Population of China:\n",
      " Year\n",
      "2020    1402000000\n",
      "2021    1405000000\n",
      "Name: Population, dtype: int64\n"
     ]
    }
   ],
   "source": [
    "# ------------------ Retrieve Data for Specific Countries ------------------\n",
    "# Access population data for USA\n",
    "print(\"\\nPopulation of USA:\\n\", df.loc['USA', 'Population'])\n",
    "\n",
    "# Access population data for China\n",
    "print(\"\\nPopulation of China:\\n\", df.loc['China', 'Population'])"
   ]
  }
 ],
 "metadata": {
  "kernelspec": {
   "display_name": "Python 3 (ipykernel)",
   "language": "python",
   "name": "python3"
  },
  "language_info": {
   "codemirror_mode": {
    "name": "ipython",
    "version": 3
   },
   "file_extension": ".py",
   "mimetype": "text/x-python",
   "name": "python",
   "nbconvert_exporter": "python",
   "pygments_lexer": "ipython3",
   "version": "3.11.3"
  }
 },
 "nbformat": 4,
 "nbformat_minor": 5
}
