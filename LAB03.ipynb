{
 "cells": [
  {
   "cell_type": "code",
   "execution_count": 2,
   "id": "ca07caed",
   "metadata": {},
   "outputs": [
    {
     "name": "stdout",
     "output_type": "stream",
     "text": [
      "=== Original Data ===\n",
      "                Population         GDP  Life_Expectancy\n",
      "Country Year                                           \n",
      "USA     2020  3.310000e+08  21000000.0             78.5\n",
      "        2021  3.320000e+08  21500000.0             78.7\n",
      "China   2020  1.402000e+09  14700000.0             76.9\n",
      "        2021  1.405000e+09  15500000.0             77.1\n",
      "Germany 2020  8.300000e+07   4000000.0             81.3\n",
      "        2021  8.310000e+07   4200000.0             81.5 \n",
      "\n"
     ]
    }
   ],
   "source": [
    "import pandas as pd\n",
    "import numpy as np\n",
    "\n",
    "\n",
    "data = {\n",
    "    ('USA', 2020): [331000000, 21000000, 78.5],\n",
    "    ('USA', 2021): [332000000, 21500000, 78.7],\n",
    "    ('China', 2020): [1402000000, 14700000, 76.9],\n",
    "    ('China', 2021): [1405000000, 15500000, 77.1],\n",
    "    ('Germany', 2020): [83000000, 4000000, 81.3],\n",
    "    ('Germany', 2021): [83100000, 4200000, 81.5],\n",
    "}\n",
    "\n",
    "\n",
    "df = pd.DataFrame(data, index=['Population', 'GDP', 'Life_Expectancy']).T\n",
    "df.index.names = ['Country', 'Year']\n",
    "\n",
    "print(\"=== Original Data ===\")\n",
    "print(df, \"\\n\")"
   ]
  },
  {
   "cell_type": "code",
   "execution_count": 3,
   "id": "9744210c",
   "metadata": {},
   "outputs": [
    {
     "name": "stdout",
     "output_type": "stream",
     "text": [
      "=== Step 1: Summary Statistics ===\n",
      "Mean Population (Pandas): 606016666.6666666\n",
      "Sum of GDP (Pandas): 80900000.0\n",
      "Max Life Expectancy (Pandas): 81.5\n",
      "Min GDP (Pandas): 4000000.0\n",
      "\n",
      "Using NumPy:\n",
      "Mean Population (NumPy): 606016666.6666666\n",
      "Standard Deviation of GDP (NumPy): 7099628.315779793\n",
      "Sum of GDP (NumPy): 80900000.0 \n",
      "\n"
     ]
    }
   ],
   "source": [
    "print(\"=== Step 1: Summary Statistics ===\")\n",
    "print(\"Mean Population (Pandas):\", df['Population'].mean())\n",
    "print(\"Sum of GDP (Pandas):\", df['GDP'].sum())\n",
    "print(\"Max Life Expectancy (Pandas):\", df['Life_Expectancy'].max())\n",
    "print(\"Min GDP (Pandas):\", df['GDP'].min())\n",
    "\n",
    "print(\"\\nUsing NumPy:\")\n",
    "print(\"Mean Population (NumPy):\", np.mean(df['Population']))\n",
    "print(\"Standard Deviation of GDP (NumPy):\", np.std(df['GDP']))\n",
    "print(\"Sum of GDP (NumPy):\", np.sum(df['GDP']), \"\\n\")\n",
    "\n",
    "\n",
    "df['GDP'] = df['GDP'] * 1.10"
   ]
  },
  {
   "cell_type": "code",
   "execution_count": 4,
   "id": "f2207f2c",
   "metadata": {},
   "outputs": [
    {
     "name": "stdout",
     "output_type": "stream",
     "text": [
      "=== Step 2: GDP Increased by 10% ===\n",
      "                Population         GDP  Life_Expectancy\n",
      "Country Year                                           \n",
      "USA     2020  3.310000e+08  23100000.0             78.5\n",
      "        2021  3.320000e+08  23650000.0             78.7\n",
      "China   2020  1.402000e+09  16170000.0             76.9\n",
      "        2021  1.405000e+09  17050000.0             77.1\n",
      "Germany 2020  8.300000e+07   4400000.0             81.3\n",
      "        2021  8.310000e+07   4620000.0             81.5 \n",
      "\n"
     ]
    }
   ],
   "source": [
    "print(\"=== Step 2: GDP Increased by 10% ===\")\n",
    "print(df, \"\\n\")\n",
    "\n",
    "\n",
    "df_swapped = df.swaplevel('Country', 'Year')\n",
    "df_swapped = df_swapped.sort_index(level='Year')"
   ]
  },
  {
   "cell_type": "code",
   "execution_count": 5,
   "id": "36e9dc42",
   "metadata": {},
   "outputs": [
    {
     "name": "stdout",
     "output_type": "stream",
     "text": [
      "=== Step 3: After swaplevel() and sort_index() ===\n",
      "                Population         GDP  Life_Expectancy\n",
      "Year Country                                           \n",
      "2020 China    1.402000e+09  16170000.0             76.9\n",
      "     Germany  8.300000e+07   4400000.0             81.3\n",
      "     USA      3.310000e+08  23100000.0             78.5\n",
      "2021 China    1.405000e+09  17050000.0             77.1\n",
      "     Germany  8.310000e+07   4620000.0             81.5\n",
      "     USA      3.320000e+08  23650000.0             78.7 \n",
      "\n"
     ]
    }
   ],
   "source": [
    "print(\"=== Step 3: After swaplevel() and sort_index() ===\")\n",
    "print(df_swapped, \"\\n\")\n",
    "\n",
    "\n",
    "df_unstacked = df.unstack(level='Year')"
   ]
  },
  {
   "cell_type": "code",
   "execution_count": 6,
   "id": "21a9509f",
   "metadata": {},
   "outputs": [
    {
     "name": "stdout",
     "output_type": "stream",
     "text": [
      "=== Step 4: Unstacked Data (Year as Columns) ===\n",
      "           Population                       GDP             Life_Expectancy  \\\n",
      "Year             2020          2021        2020        2021            2020   \n",
      "Country                                                                       \n",
      "China    1.402000e+09  1.405000e+09  16170000.0  17050000.0            76.9   \n",
      "Germany  8.300000e+07  8.310000e+07   4400000.0   4620000.0            81.3   \n",
      "USA      3.310000e+08  3.320000e+08  23100000.0  23650000.0            78.5   \n",
      "\n",
      "               \n",
      "Year     2021  \n",
      "Country        \n",
      "China    77.1  \n",
      "Germany  81.5  \n",
      "USA      78.7   \n",
      "\n"
     ]
    }
   ],
   "source": [
    "print(\"=== Step 4: Unstacked Data (Year as Columns) ===\")\n",
    "print(df_unstacked, \"\\n\")"
   ]
  },
  {
   "cell_type": "code",
   "execution_count": 8,
   "id": "fbafb662",
   "metadata": {},
   "outputs": [
    {
     "name": "stdout",
     "output_type": "stream",
     "text": [
      "=== Step 5: Population Trends by Country ===\n",
      "USA Population Trend:\n",
      " Year\n",
      "2020    331000000.0\n",
      "2021    332000000.0\n",
      "Name: Population, dtype: float64\n",
      "\n",
      "China Population Trend:\n",
      " Year\n",
      "2020    1.402000e+09\n",
      "2021    1.405000e+09\n",
      "Name: Population, dtype: float64\n",
      "\n",
      "Germany Population Trend:\n",
      " Year\n",
      "2020    83000000.0\n",
      "2021    83100000.0\n",
      "Name: Population, dtype: float64\n"
     ]
    }
   ],
   "source": [
    "print(\"=== Step 5: Population Trends by Country ===\")\n",
    "print(\"USA Population Trend:\\n\", df.loc['USA', 'Population'])\n",
    "print(\"\\nChina Population Trend:\\n\", df.loc['China', 'Population'])\n",
    "print(\"\\nGermany Population Trend:\\n\", df.loc['Germany', 'Population'])\n"
   ]
  },
  {
   "cell_type": "code",
   "execution_count": null,
   "id": "14fbedfc",
   "metadata": {},
   "outputs": [],
   "source": []
  }
 ],
 "metadata": {
  "kernelspec": {
   "display_name": "Python 3 (ipykernel)",
   "language": "python",
   "name": "python3"
  },
  "language_info": {
   "codemirror_mode": {
    "name": "ipython",
    "version": 3
   },
   "file_extension": ".py",
   "mimetype": "text/x-python",
   "name": "python",
   "nbconvert_exporter": "python",
   "pygments_lexer": "ipython3",
   "version": "3.11.3"
  }
 },
 "nbformat": 4,
 "nbformat_minor": 5
}
