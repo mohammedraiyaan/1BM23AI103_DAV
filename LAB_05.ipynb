{
 "cells": [
  {
   "cell_type": "code",
   "execution_count": 23,
   "id": "e3d3de05",
   "metadata": {},
   "outputs": [
    {
     "name": "stdout",
     "output_type": "stream",
     "text": [
      "Created sales_data.csv file\n"
     ]
    }
   ],
   "source": [
    "import pandas as pd\n",
    "\n",
    "# Multi-line string containing CSV data\n",
    "csv_data = \"\"\"Date,Region,Salesperson,Product,Units Sold,Price per Unit,Revenue\n",
    "2024-01-01,North,Alice,Widget A,10,20,200\n",
    "2024-01-02,North,Bob,Widget B,5,30,150\n",
    "2024-01-02,South,Charlie,Widget A,15,20,300\n",
    "2024-01-03,East,Alice,Widget A,12,20,240\n",
    "2024-01-03,North,Bob,Widget A,20,20,400\n",
    "2024-01-04,West,David,Widget B,8,30,240\n",
    "2024-01-05,South,Charlie,Widget B,10,30,300\n",
    "2024-01-05,East,Alice,Widget B,9,30,270\n",
    "\"\"\"\n",
    "\n",
    "# Write the CSV data string to a file\n",
    "with open('sales_data.csv', 'w') as f:\n",
    "    print(\"Created sales_data.csv file\")\n",
    "    f.write(csv_data)\n",
    "\n",
    "# Read the CSV file into a pandas DataFrame\n",
    "df = pd.read_csv('sales_data.csv')\n",
    "\n",
    "# Convert the 'Date' column to datetime type for easier time-based analysis\n",
    "df['Date'] = pd.to_datetime(df['Date'])"
   ]
  },
  {
   "cell_type": "code",
   "execution_count": 24,
   "id": "249c81dd",
   "metadata": {},
   "outputs": [
    {
     "name": "stdout",
     "output_type": "stream",
     "text": [
      "--- 1. Total Revenue by Salesperson on Each Date ---\n",
      "Salesperson  Alice    Bob  Charlie  David\n",
      "Date                                     \n",
      "2024-01-01   200.0    0.0      0.0    0.0\n",
      "2024-01-02     0.0  150.0    300.0    0.0\n",
      "2024-01-03   240.0  400.0      0.0    0.0\n",
      "2024-01-04     0.0    0.0      0.0  240.0\n",
      "2024-01-05   270.0    0.0    300.0    0.0\n",
      "\n",
      "==================================================\n",
      "\n",
      "--- 2. Average Revenue per Sale for Each Product ---\n",
      "    Product  Average Revenue\n",
      "0  Widget A            285.0\n",
      "1  Widget B            240.0\n",
      "\n",
      "==================================================\n",
      "\n"
     ]
    }
   ],
   "source": [
    "# 1. Pivot table: total revenue by Salesperson for each Date\n",
    "revenue_by_salesperson_date = df.pivot_table(\n",
    "    index='Date', \n",
    "    columns='Salesperson', \n",
    "    values='Revenue', \n",
    "    aggfunc='sum'\n",
    ").fillna(0)  # Fill missing values with 0\n",
    "\n",
    "print(\"--- 1. Total Revenue by Salesperson on Each Date ---\")\n",
    "print(revenue_by_salesperson_date)\n",
    "print(\"\\n\" + \"=\"*50 + \"\\n\")\n",
    "\n",
    "# 2. Calculate the average revenue per sale grouped by Product\n",
    "avg_revenue_per_product = df.groupby('Product')['Revenue'].mean().round(2).reset_index(name='Average Revenue')\n",
    "\n",
    "print(\"--- 2. Average Revenue per Sale for Each Product ---\")\n",
    "print(avg_revenue_per_product)\n",
    "print(\"\\n\" + \"=\"*50 + \"\\n\")"
   ]
  },
  {
   "cell_type": "code",
   "execution_count": 25,
   "id": "38d1c585",
   "metadata": {},
   "outputs": [
    {
     "name": "stdout",
     "output_type": "stream",
     "text": [
      "--- 3. Max Units Sold in a Single Transaction by Salesperson ---\n",
      "  Salesperson  Max Units Sold\n",
      "0       Alice              12\n",
      "1         Bob              20\n",
      "2     Charlie              15\n",
      "3       David               8\n",
      "\n",
      "==================================================\n",
      "\n"
     ]
    }
   ],
   "source": [
    "# 3. Find the maximum units sold in a single transaction by each Salesperson\n",
    "max_units_sold = df.groupby('Salesperson')['Units Sold'].max().reset_index(name='Max Units Sold')\n",
    "\n",
    "print(\"--- 3. Max Units Sold in a Single Transaction by Salesperson ---\")\n",
    "print(max_units_sold)\n",
    "print(\"\\n\" + \"=\"*50 + \"\\n\")"
   ]
  },
  {
   "cell_type": "code",
   "execution_count": 26,
   "id": "fce1f55a",
   "metadata": {},
   "outputs": [
    {
     "name": "stdout",
     "output_type": "stream",
     "text": [
      "--- 4. Percentage of Total Revenue by Region ---\n",
      "  Region  Revenue Percentage (%)\n",
      "0   East                   24.29\n",
      "1  North                   35.71\n",
      "2  South                   28.57\n",
      "3   West                   11.43\n",
      "\n",
      "==================================================\n",
      "\n"
     ]
    }
   ],
   "source": [
    "# 4. Calculate total revenue by Region and their percentage contribution to overall revenue\n",
    "region_revenue = df.groupby('Region')['Revenue'].sum()\n",
    "total_revenue = region_revenue.sum()\n",
    "revenue_percentage = ((region_revenue / total_revenue) * 100).round(2).reset_index(name='Revenue Percentage (%)')\n",
    "\n",
    "print(\"--- 4. Percentage of Total Revenue by Region ---\")\n",
    "print(revenue_percentage)\n",
    "print(\"\\n\" + \"=\"*50 + \"\\n\")"
   ]
  },
  {
   "cell_type": "code",
   "execution_count": 27,
   "id": "329397cc",
   "metadata": {},
   "outputs": [
    {
     "name": "stdout",
     "output_type": "stream",
     "text": [
      "--- 5. Salesperson with the Most Sales Transactions ---\n",
      "Salesperson: Alice\n",
      "Number of Transactions: 3\n",
      "\n",
      "All transaction counts:\n",
      "  Salesperson  Transaction Count\n",
      "0       Alice                  3\n",
      "1         Bob                  2\n",
      "2     Charlie                  2\n",
      "3       David                  1\n",
      "\n",
      "==================================================\n",
      "\n"
     ]
    }
   ],
   "source": [
    "# 5. Determine which Salesperson had the most sales transactions\n",
    "transaction_counts = df['Salesperson'].value_counts()\n",
    "most_transactions_salesperson = transaction_counts.idxmax()\n",
    "most_transactions_count = transaction_counts.max()\n",
    "\n",
    "print(\"--- 5. Salesperson with the Most Sales Transactions ---\")\n",
    "print(f\"Salesperson: {most_transactions_salesperson}\")\n",
    "print(f\"Number of Transactions: {most_transactions_count}\")\n",
    "print(\"\\nAll transaction counts:\")\n",
    "print(transaction_counts.reset_index(name='Transaction Count').rename(columns={'index': 'Salesperson'}))\n",
    "print(\"\\n\" + \"=\"*50 + \"\\n\")"
   ]
  },
  {
   "cell_type": "code",
   "execution_count": 28,
   "id": "77fe210a",
   "metadata": {},
   "outputs": [
    {
     "name": "stdout",
     "output_type": "stream",
     "text": [
      "--- 6. Total Revenue and Units by Salesperson and Product (Pivot) ---\n",
      "             Revenue          Units Sold         \n",
      "Product     Widget A Widget B   Widget A Widget B\n",
      "Salesperson                                      \n",
      "Alice          440.0    270.0       22.0      9.0\n",
      "Bob            400.0    150.0       20.0      5.0\n",
      "Charlie        300.0    300.0       15.0     10.0\n",
      "David            0.0    240.0        0.0      8.0\n",
      "\n",
      "==================================================\n",
      "\n"
     ]
    }
   ],
   "source": [
    "# 6. Pivot table showing total Revenue and Units Sold by Salesperson and Product\n",
    "pivot_revenue_units = df.pivot_table(\n",
    "    index='Salesperson', \n",
    "    columns='Product', \n",
    "    values=['Revenue', 'Units Sold'], \n",
    "    aggfunc='sum'\n",
    ").fillna(0)\n",
    "\n",
    "print(\"--- 6. Total Revenue and Units by Salesperson and Product (Pivot) ---\")\n",
    "print(pivot_revenue_units)\n",
    "print(\"\\n\" + \"=\"*50 + \"\\n\")"
   ]
  },
  {
   "cell_type": "code",
   "execution_count": 29,
   "id": "94f6dd36",
   "metadata": {},
   "outputs": [
    {
     "name": "stdout",
     "output_type": "stream",
     "text": [
      "--- 7. Total Units Sold by Region on Each Date (Pivot) ---\n",
      "Region      East  North  South  West\n",
      "Date                                \n",
      "2024-01-01   0.0   10.0    0.0   0.0\n",
      "2024-01-02   0.0    5.0   15.0   0.0\n",
      "2024-01-03  12.0   20.0    0.0   0.0\n",
      "2024-01-04   0.0    0.0    0.0   8.0\n",
      "2024-01-05   9.0    0.0   10.0   0.0\n",
      "\n",
      "==================================================\n",
      "\n"
     ]
    }
   ],
   "source": [
    "# 7. Pivot table showing total Units Sold by Region for each Date\n",
    "pivot_units_by_region_date = df.pivot_table(\n",
    "    index='Date', \n",
    "    columns='Region', \n",
    "    values='Units Sold', \n",
    "    aggfunc='sum'\n",
    ").fillna(0)\n",
    "\n",
    "print(\"--- 7. Total Units Sold by Region on Each Date (Pivot) ---\")\n",
    "print(pivot_units_by_region_date)\n",
    "print(\"\\n\" + \"=\"*50 + \"\\n\")"
   ]
  }
 ],
 "metadata": {
  "kernelspec": {
   "display_name": "Python 3 (ipykernel)",
   "language": "python",
   "name": "python3"
  },
  "language_info": {
   "codemirror_mode": {
    "name": "ipython",
    "version": 3
   },
   "file_extension": ".py",
   "mimetype": "text/x-python",
   "name": "python",
   "nbconvert_exporter": "python",
   "pygments_lexer": "ipython3",
   "version": "3.11.3"
  }
 },
 "nbformat": 4,
 "nbformat_minor": 5
}
