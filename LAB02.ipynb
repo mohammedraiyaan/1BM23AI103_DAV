{
 "cells": [
  {
   "cell_type": "code",
   "execution_count": 3,
   "id": "7b51260d",
   "metadata": {},
   "outputs": [
    {
     "name": "stdout",
     "output_type": "stream",
     "text": [
      "Initial Data:\n",
      "    ID   Age  Gender    Income       Occupation  Years_Employed  \\\n",
      "0    1  25.0    Male   50000.0         Engineer             2.0   \n",
      "1    2  37.0  Female   62000.0   Data Scientist             5.0   \n",
      "2    3   NaN    Male   45000.0  Product Manager             3.0   \n",
      "3    4  29.0  Female   54000.0  Product Manager             NaN   \n",
      "4    5  42.0    Male       NaN            Sales             8.0   \n",
      "5    6  55.0  Female  100000.0        Executive            30.0   \n",
      "6    7  23.0    Male   52000.0              NaN             1.0   \n",
      "7    8  29.0  Female   70000.0  Product Manager             6.0   \n",
      "8    9   NaN     NaN       NaN              NaN            15.0   \n",
      "9   10  45.0  Female   85000.0        Executive             NaN   \n",
      "10  11   NaN    Male  200000.0        Executive             NaN   \n",
      "\n",
      "    Satisfaction_Level Purchase_History  \n",
      "0                  0.8             High  \n",
      "1                  0.6           Medium  \n",
      "2                  0.7              Low  \n",
      "3                  0.7             High  \n",
      "4                  0.5              Low  \n",
      "5                  0.9             High  \n",
      "6                  0.4           Medium  \n",
      "7                  0.7             High  \n",
      "8                  0.9              Low  \n",
      "9                  NaN             High  \n",
      "10                 NaN             High  \n"
     ]
    }
   ],
   "source": [
    "import pandas as pd\n",
    "import numpy as np\n",
    "from scipy import stats\n",
    "\n",
    "\n",
    "data = {\n",
    "    \"ID\": [1, 2, 3, 4, 5, 6, 7, 8, 9, 10, 11],\n",
    "    \"Age\": [25, 37, np.nan, 29, 42, 55, 23, 29, np.nan, 45, np.nan],\n",
    "    \"Gender\": [\"Male\", \"Female\", \"Male\", \"Female\", \"Male\", \"Female\", \"Male\", \"Female\", np.nan, \"Female\", \"Male\"],\n",
    "    \"Income\": [50000, 62000, 45000, 54000, np.nan, 100000, 52000, 70000, np.nan, 85000, 200000],\n",
    "    \"Occupation\": [\"Engineer\", \"Data Scientist\", \"Product Manager\", \"Product Manager\", \"Sales\", \"Executive\",\n",
    "                   np.nan, \"Product Manager\", np.nan, \"Executive\", \"Executive\"],\n",
    "    \"Years_Employed\": [2, 5, 3, np.nan, 8, 30, 1, 6, 15, np.nan, np.nan],\n",
    "    \"Satisfaction_Level\": [0.8, 0.6, 0.7, 0.7, 0.5, 0.9, 0.4, 0.7, 0.9, np.nan, np.nan],\n",
    "    \"Purchase_History\": [\"High\", \"Medium\", \"Low\", \"High\", \"Low\", \"High\", \"Medium\", \"High\", \"Low\", \"High\", \"High\"]\n",
    "}\n",
    "\n",
    "df = pd.DataFrame(data)\n",
    "\n",
    "print(\"Initial Data:\")\n",
    "print(df)"
   ]
  },
  {
   "cell_type": "code",
   "execution_count": 4,
   "id": "d54bf74f",
   "metadata": {},
   "outputs": [
    {
     "name": "stdout",
     "output_type": "stream",
     "text": [
      "\n",
      "Missing values (isnull):\n",
      "ID                    0\n",
      "Age                   3\n",
      "Gender                1\n",
      "Income                2\n",
      "Occupation            2\n",
      "Years_Employed        3\n",
      "Satisfaction_Level    2\n",
      "Purchase_History      0\n",
      "dtype: int64\n",
      "\n",
      "Non-missing values (notnull):\n",
      "ID                    11\n",
      "Age                    8\n",
      "Gender                10\n",
      "Income                 9\n",
      "Occupation             9\n",
      "Years_Employed         8\n",
      "Satisfaction_Level     9\n",
      "Purchase_History      11\n",
      "dtype: int64\n"
     ]
    }
   ],
   "source": [
    "print(\"\\nMissing values (isnull):\")\n",
    "print(df.isnull().sum())\n",
    "\n",
    "print(\"\\nNon-missing values (notnull):\")\n",
    "print(df.notnull().sum())"
   ]
  },
  {
   "cell_type": "code",
   "execution_count": 11,
   "id": "2eb4613d",
   "metadata": {},
   "outputs": [],
   "source": [
    "# Strategy used: \n",
    "# - Fill missing Occupation with \"Unknown\"\n",
    "# - Fill Satisfaction_Level with mean\n",
    "# - Drop rows with too many missing values (e.g., row 9 and 11)\n",
    "\n",
    "df[\"Occupation\"].fillna(\"Unknown\", inplace=True)\n",
    "df[\"Satisfaction_Level\"].fillna(df[\"Satisfaction_Level\"].mean(), inplace=True)\n",
    "\n",
    "\n",
    "df.dropna(subset=[\"Age\", \"Income\", \"Years_Employed\"], how='all', inplace=True)\n",
    "\n",
    "\n",
    "def satisfaction_to_label(x):\n",
    "    return \"High\" if x > 0.7 else \"Low\"\n",
    "\n",
    "df[\"Satisfaction_Label\"] = df[\"Satisfaction_Level\"].apply(satisfaction_to_label)\n",
    "\n",
    "\n",
    "purchase_map = {\"High\": 2, \"Medium\": 1, \"Low\": 0}\n",
    "df[\"Purchase_History_Score\"] = df[\"Purchase_History\"].map(purchase_map)"
   ]
  },
  {
   "cell_type": "code",
   "execution_count": 12,
   "id": "35c11116",
   "metadata": {},
   "outputs": [
    {
     "name": "stdout",
     "output_type": "stream",
     "text": [
      "\n",
      "Outliers using Z-Score:\n",
      "Empty DataFrame\n",
      "Columns: [ID, Income]\n",
      "Index: []\n"
     ]
    }
   ],
   "source": [
    "income_clean = df[\"Income\"].dropna()\n",
    "z_scores = stats.zscore(income_clean)\n",
    "\n",
    "\n",
    "z_scores_series = pd.Series(z_scores, index=income_clean.index)\n",
    "\n",
    "outliers_z = df.loc[z_scores_series[np.abs(z_scores_series) > 3].index]\n",
    "\n",
    "print(\"\\nOutliers using Z-Score:\")\n",
    "print(outliers_z[[\"ID\", \"Income\"]])"
   ]
  },
  {
   "cell_type": "code",
   "execution_count": 13,
   "id": "54bb1f37",
   "metadata": {},
   "outputs": [
    {
     "name": "stdout",
     "output_type": "stream",
     "text": [
      "\n",
      "Outliers using IQR:\n",
      "    ID    Income\n",
      "10  11  200000.0\n"
     ]
    }
   ],
   "source": [
    "Q1 = df[\"Income\"].quantile(0.25)\n",
    "Q3 = df[\"Income\"].quantile(0.75)\n",
    "IQR = Q3 - Q1\n",
    "lower_bound = Q1 - 1.5 * IQR\n",
    "upper_bound = Q3 + 1.5 * IQR\n",
    "\n",
    "outliers_iqr = df[(df[\"Income\"] < lower_bound) | (df[\"Income\"] > upper_bound)]\n",
    "print(\"\\nOutliers using IQR:\")\n",
    "print(outliers_iqr[[\"ID\", \"Income\"]])"
   ]
  },
  {
   "cell_type": "code",
   "execution_count": 14,
   "id": "01eafd21",
   "metadata": {},
   "outputs": [
    {
     "name": "stdout",
     "output_type": "stream",
     "text": [
      "\n",
      "Missing Years_Employed before fillna:\n",
      "0\n"
     ]
    }
   ],
   "source": [
    "print(\"\\nMissing Years_Employed before fillna:\")\n",
    "print(df[\"Years_Employed\"].isnull().sum())"
   ]
  },
  {
   "cell_type": "code",
   "execution_count": 15,
   "id": "898d6ece",
   "metadata": {},
   "outputs": [],
   "source": [
    "median_years = df[\"Years_Employed\"].median()\n",
    "df[\"Years_Employed\"].fillna(median_years, inplace=True)"
   ]
  },
  {
   "cell_type": "code",
   "execution_count": 16,
   "id": "74c11780",
   "metadata": {},
   "outputs": [
    {
     "name": "stdout",
     "output_type": "stream",
     "text": [
      "\n",
      "Missing Years_Employed after fillna:\n",
      "0\n"
     ]
    }
   ],
   "source": [
    "print(\"\\nMissing Years_Employed after fillna:\")\n",
    "print(df[\"Years_Employed\"].isnull().sum())"
   ]
  },
  {
   "cell_type": "code",
   "execution_count": 17,
   "id": "d437cc7c",
   "metadata": {},
   "outputs": [
    {
     "name": "stdout",
     "output_type": "stream",
     "text": [
      "\n",
      "Cleaned & Transformed Dataset:\n",
      "    ID   Age  Gender    Income       Occupation  Years_Employed  \\\n",
      "0    1  25.0    Male   50000.0         Engineer             2.0   \n",
      "1    2  37.0  Female   62000.0   Data Scientist             5.0   \n",
      "2    3   NaN    Male   45000.0  Product Manager             3.0   \n",
      "3    4  29.0  Female   54000.0  Product Manager             5.5   \n",
      "4    5  42.0    Male       NaN            Sales             8.0   \n",
      "5    6  55.0  Female  100000.0        Executive            30.0   \n",
      "6    7  23.0    Male   52000.0          Unknown             1.0   \n",
      "7    8  29.0  Female   70000.0  Product Manager             6.0   \n",
      "8    9   NaN     NaN       NaN          Unknown            15.0   \n",
      "9   10  45.0  Female   85000.0        Executive             5.5   \n",
      "10  11   NaN    Male  200000.0        Executive             5.5   \n",
      "\n",
      "    Satisfaction_Level Purchase_History Satisfaction_Label  \\\n",
      "0             0.800000             High               High   \n",
      "1             0.600000           Medium                Low   \n",
      "2             0.700000              Low                Low   \n",
      "3             0.700000             High                Low   \n",
      "4             0.500000              Low                Low   \n",
      "5             0.900000             High               High   \n",
      "6             0.400000           Medium                Low   \n",
      "7             0.700000             High                Low   \n",
      "8             0.900000              Low               High   \n",
      "9             0.688889             High                Low   \n",
      "10            0.688889             High                Low   \n",
      "\n",
      "    Purchase_History_Score  \n",
      "0                        2  \n",
      "1                        1  \n",
      "2                        0  \n",
      "3                        2  \n",
      "4                        0  \n",
      "5                        2  \n",
      "6                        1  \n",
      "7                        2  \n",
      "8                        0  \n",
      "9                        2  \n",
      "10                       2  \n"
     ]
    }
   ],
   "source": [
    "print(\"\\nCleaned & Transformed Dataset:\")\n",
    "print(df)"
   ]
  }
 ],
 "metadata": {
  "kernelspec": {
   "display_name": "Python 3 (ipykernel)",
   "language": "python",
   "name": "python3"
  },
  "language_info": {
   "codemirror_mode": {
    "name": "ipython",
    "version": 3
   },
   "file_extension": ".py",
   "mimetype": "text/x-python",
   "name": "python",
   "nbconvert_exporter": "python",
   "pygments_lexer": "ipython3",
   "version": "3.11.3"
  }
 },
 "nbformat": 4,
 "nbformat_minor": 5
}
